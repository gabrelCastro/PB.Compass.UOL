{
 "cells": [
  {
   "cell_type": "markdown",
   "metadata": {},
   "source": [
    "#### Abrindo o arquivo e lendo o arquivo"
   ]
  },
  {
   "cell_type": "code",
   "execution_count": 11,
   "metadata": {},
   "outputs": [
    {
     "name": "stdout",
     "output_type": "stream",
     "text": [
      "Numero de Actor: 50\n",
      "Numero de Total Gross: 50\n",
      "Numero de Number of movies: 50\n",
      "Numero de Average per movie: 50\n",
      "Numero de #1 Movie: 50\n",
      "Numero de Gross: 50\n"
     ]
    }
   ],
   "source": [
    "# Preparando um dicionário com as colunas do arquivo csv como chaves\n",
    "dicionario = {\"Actor\": [], \"Total Gross\": [], \"Number of movies\": [], \"Average per movie\": [], \"#1 Movie\": [], \"Gross\": []};\n",
    "\n",
    "\n",
    "# Pega cada linha e verifica se existe uma virgula dentro de aspas, se sim, troca a virgula por ponto\n",
    "def verificacaoDeVirgula(linha):\n",
    "    intervalo = False\n",
    "    linha = list(linha)\n",
    "    for x in range(len(linha)):\n",
    "        if linha[x] == '\"':\n",
    "            linha[x] = \"\"\n",
    "            intervalo = not intervalo\n",
    "        if linha[x] == \",\" and intervalo:\n",
    "            linha[x] = \".\"\n",
    "    return \"\".join(linha)\n",
    "\n",
    "\n",
    "# Lendo o arquivo e adicionando os valores ao dicionário\n",
    "with open('actors.csv') as arquivo:\n",
    "    for linhas in arquivo:\n",
    "        linhas = verificacaoDeVirgula(linhas)\n",
    "        vetor = linhas.split(','); # Separando os valores por vírgula depois da verificação\n",
    "        for x in range(len(vetor)):\n",
    "            vetor[x] = vetor[x].strip();\n",
    "        dicionario[\"Actor\"].append(vetor[0]);\n",
    "        dicionario[\"Total Gross\"].append(vetor[1]);\n",
    "        dicionario[\"Number of movies\"].append(vetor[2]);\n",
    "        dicionario[\"Average per movie\"].append(vetor[3]);\n",
    "        dicionario[\"#1 Movie\"].append(vetor[4]);\n",
    "        dicionario[\"Gross\"].append(vetor[5]);\n",
    "\n",
    "# Eliminando o cabeçalho\n",
    "for chave in dicionario.keys():\n",
    "    dicionario[chave].pop(0);\n",
    "\n",
    "# Conferindo se o número de valores é igual para todas as chaves\n",
    "for chaves in dicionario.keys():\n",
    "    print(\"Numero de {}: {}\".format(chaves, len(dicionario[chaves])))"
   ]
  },
  {
   "cell_type": "markdown",
   "metadata": {},
   "source": [
    "### Tratando chaves numéricas"
   ]
  },
  {
   "cell_type": "code",
   "execution_count": 12,
   "metadata": {},
   "outputs": [
    {
     "name": "stdout",
     "output_type": "stream",
     "text": [
      "Valores errados: 0\n"
     ]
    }
   ],
   "source": [
    "chavesNumericas = [\"Total Gross\", \"Number of movies\",\"Average per movie\", \"Gross\"];\n",
    "valoresErrados = 0;\n",
    "for chave in chavesNumericas:\n",
    "    for x in range(len(dicionario[chave])):\n",
    "        try:\n",
    "            dicionario[chave][x] = float(dicionario[chave][x])\n",
    "        except:\n",
    "            valoresErrados += 1 \n",
    "            dicionario[chave][x] = 0.0\n",
    "\n",
    "print(\"Valores errados: {}\".format(valoresErrados))"
   ]
  },
  {
   "cell_type": "markdown",
   "metadata": {},
   "source": [
    "#### Eliminando OUTLIERS"
   ]
  },
  {
   "cell_type": "code",
   "execution_count": 13,
   "metadata": {},
   "outputs": [
    {
     "name": "stdout",
     "output_type": "stream",
     "text": [
      "Limite inferior e superior de Total Gross: 1728.6499999999996 e 4065.8500000000004\n",
      "Limite inferior e superior de Number of movies: 1.5 e 69.5\n",
      "Limite inferior e superior de Average per movie: 17.050000000000004 e 150.25\n",
      "Limite inferior e superior de Gross: -104.09999999999997 e 918.3\n",
      "79.0\n"
     ]
    }
   ],
   "source": [
    "import copy\n",
    "dicionarioNormal = copy.deepcopy(dicionario)\n",
    "\n",
    "for chave in chavesNumericas:\n",
    "    ordenado = sorted(dicionario[chave]);\n",
    "    primeiro = ordenado[int(len(ordenado) * 0.25)] # primeiro quartil\n",
    "    segundo = ordenado[int(len(ordenado) * 0.5)] # segundo quartil\n",
    "    terceiro = ordenado[int(len(ordenado) * 0.75)] # terceiro quartil\n",
    "    iqr = terceiro - primeiro\n",
    "    limiteInferior = primeiro - 1.5 * iqr\n",
    "    limiteSuperior = terceiro + 1.5 * iqr\n",
    "    print(\"Limite inferior e superior de {}: {} e {}\".format(chave, limiteInferior, limiteSuperior))\n",
    "    aRemover = []\n",
    "    for index in range(len(dicionario[chave])):\n",
    "        if (dicionario[chave][index] < limiteInferior) or (dicionario[chave][index] > limiteSuperior):\n",
    "            dicionario[chave][index] = 0.0\n",
    "\n",
    "print(max(dicionarioNormal['Number of movies']))"
   ]
  },
  {
   "cell_type": "markdown",
   "metadata": {},
   "source": [
    "#### Substituindo valores com zero pela média"
   ]
  },
  {
   "cell_type": "code",
   "execution_count": 14,
   "metadata": {},
   "outputs": [
    {
     "name": "stdout",
     "output_type": "stream",
     "text": [
      "{'Actor': ['Harrison Ford', 'Samuel L. Jackson', 'Morgan Freeman', 'Tom Hanks', 'Robert Downey. Jr.', 'Eddie Murphy', 'Tom Cruise', 'Johnny Depp', 'Michael Caine', 'Scarlett Johansson', 'Gary Oldman', 'Robin Williams', 'Bruce Willis', 'Stellan Skarsgard', 'Anthony Daniels', 'Ian McKellen', 'Will Smith', 'Stanley Tucci', 'Matt Damon', 'Robert DeNiro', 'Cameron Diaz', 'Liam Neeson', 'Andy Serkis', 'Don Cheadle', 'Ben Stiller', 'Helena Bonham Carter', 'Orlando Bloom', 'Woody Harrelson', 'Cate Blanchett', 'Julia Roberts', 'Elizabeth Banks', 'Ralph Fiennes', 'Emma Watson', 'Tommy Lee Jones', 'Brad Pitt', 'Adam Sandler', 'Daniel Radcliffe', 'Jonah Hill', 'Owen Wilson', 'Idris Elba', 'Bradley Cooper', 'Mark Wahlberg', 'Jim Carrey', 'Dustin Hoffman', 'Leonardo DiCaprio', 'Jeremy Renner', 'Philip Seymour Hoffman', 'Sandra Bullock', 'Chris Evans', 'Anne Hathaway'], 'Total Gross': [2896, 2896, 2896, 2896, 3947.3, 3810.4, 3587.2, 3368.6, 3351.5, 3341.2, 3294.0, 3279.3, 3189.4, 3175.0, 3162.9, 3150.4, 3149.1, 3123.9, 3107.3, 3081.3, 3031.7, 2942.7, 2890.6, 2885.4, 2827.0, 2822.0, 2815.8, 2815.8, 2802.6, 2735.3, 2726.3, 2715.3, 2681.9, 2681.3, 2680.9, 2661.0, 2634.4, 2605.1, 2602.3, 2580.6, 2557.7, 2549.8, 2545.2, 2522.1, 2518.3, 2500.3, 2463.7, 2462.6, 2457.8, 2416.5], 'Number of movies': [41.0, 69.0, 61.0, 44.0, 53.0, 38.0, 36.0, 45.0, 58.0, 37.0, 38.0, 49.0, 60.0, 43.0, 7.0, 31.0, 24.0, 50.0, 39.0, 37, 34.0, 63.0, 23.0, 34.0, 37.0, 36.0, 17.0, 50.0, 39.0, 42.0, 35.0, 36.0, 17.0, 46.0, 40.0, 32.0, 17.0, 29.0, 39.0, 26.0, 25.0, 36.0, 27.0, 43.0, 25.0, 21.0, 40.0, 35.0, 23.0, 25.0], 'Average per movie': [118.8, 69.2, 73.3, 98.7, 74.5, 100.3, 99.6, 74.9, 57.8, 90.3, 86.7, 66.9, 53.2, 73.8, 81, 101.6, 131.2, 62.5, 79.7, 39.0, 89.2, 46.7, 125.7, 84.9, 76.4, 78.4, 81, 56.3, 71.9, 65.1, 77.9, 75.4, 81, 58.3, 67.0, 83.2, 81, 89.8, 66.7, 99.3, 102.3, 70.8, 94.3, 58.7, 100.7, 119.1, 61.6, 70.4, 106.9, 96.7], '#1 Movie': ['Star Wars: The Force Awakens', 'The Avengers', 'The Dark Knight', 'Toy Story 3', 'The Avengers', 'Shrek 2', 'War of the Worlds', \"Dead Man's Chest\", 'The Dark Knight', 'The Avengers', 'The Dark Knight', 'Night at the Museum', 'Sixth Sense', 'The Avengers', 'Star Wars: The Force Awakens', 'Return of the King', 'Independence Day', 'Catching Fire', 'The Martian', 'Meet the Fockers', 'Shrek 2', 'The Phantom Menace', 'Star Wars: The Force Awakens', 'Avengers: Age of Ultron', 'Meet the Fockers', 'Harry Potter / Deathly Hallows (P2)', \"Dead Man's Chest\", 'Catching Fire', 'Return of the King', \"Ocean's Eleven\", 'Catching Fire', 'Harry Potter / Deathly Hallows (P2)', 'Harry Potter / Deathly Hallows (P2)', 'Men in Black', 'World War Z', 'Hotel Transylvania 2', 'Harry Potter / Deathly Hallows (P2)', 'The LEGO Movie', 'Night at the Museum', 'Avengers: Age of Ultron', 'American Sniper', 'Transformers 4', 'The Grinch', 'Meet the Fockers', 'Titanic', 'The Avengers', 'Catching Fire', 'Minions', 'The Avengers', 'The Dark Knight Rises'], 'Gross': [396, 623.4, 534.9, 415.0, 623.4, 441.2, 234.3, 423.3, 534.9, 623.4, 534.9, 250.9, 293.5, 623.4, 396, 377.8, 306.2, 424.7, 228.4, 279.3, 441.2, 474.5, 396, 459.0, 279.3, 381.0, 423.3, 424.7, 377.8, 183.4, 424.7, 381.0, 381.0, 250.7, 202.4, 169.7, 381.0, 257.8, 250.9, 459.0, 350.1, 245.4, 260.0, 279.3, 658.7, 623.4, 424.7, 336.0, 623.4, 448.1]}\n"
     ]
    }
   ],
   "source": [
    "for chave in chavesNumericas:\n",
    "    valoresZerados = dicionario[chave].count(0.0)\n",
    "    media = int(sum(dicionario[chave])/(len(dicionario[chave]) - valoresZerados))\n",
    "    dicionario[chave] = [media if x == 0.0 else x for x in dicionario[chave]]\n",
    "\n",
    "print(dicionario)\n",
    "\n"
   ]
  },
  {
   "cell_type": "markdown",
   "metadata": {},
   "source": [
    "## ETAPA 1"
   ]
  },
  {
   "cell_type": "code",
   "execution_count": 15,
   "metadata": {},
   "outputs": [
    {
     "name": "stdout",
     "output_type": "stream",
     "text": [
      "Com remoção do outlier: O ator/atriz com mais filmes é Samuel L. Jackson com 69 filmes\n",
      "Sem remoção do outlier: O ator/atriz com mais filmes é Robert DeNiro com 79 filmes\n"
     ]
    }
   ],
   "source": [
    "maior = 0;\n",
    "indice = 0;\n",
    "\n",
    "for index in range(len(dicionario[\"Actor\"])):\n",
    "    if(dicionario[\"Number of movies\"][index] > maior):\n",
    "        maior = dicionario[\"Number of movies\"][index];\n",
    "        indice = index;\n",
    "\n",
    "ator = dicionario[\"Actor\"][indice]\n",
    "\n",
    "print(\"Com remoção do outlier: O ator/atriz com mais filmes é {} com {} filmes\".format(ator, int(maior)))\n",
    "\n",
    "# Com remoção de outlier\n",
    "\n",
    "maior = 0\n",
    "indice = 0\n",
    "\n",
    "for index in range(len(dicionarioNormal[\"Actor\"])):\n",
    "    if(dicionarioNormal[\"Number of movies\"][index] > maior):\n",
    "        maior = dicionarioNormal[\"Number of movies\"][index];\n",
    "        indice = index;\n",
    "\n",
    "ator = dicionarioNormal[\"Actor\"][indice]\n",
    "\n",
    "print(\"Sem remoção do outlier: O ator/atriz com mais filmes é {} com {} filmes\".format(ator, int(maior)))\n",
    "\n",
    "\n",
    "with open(\"etapa-1.txt\", \"w\") as arquivo:\n",
    "    arquivo.write(\"O ator/atriz com mais filmes foi {} com {} filmes\".format(ator, int(maior)))\n",
    "\n",
    "\n"
   ]
  },
  {
   "cell_type": "markdown",
   "metadata": {},
   "source": [
    "## ETAPA 2"
   ]
  },
  {
   "cell_type": "code",
   "execution_count": 16,
   "metadata": {},
   "outputs": [],
   "source": [
    "sum(dicionario[\"Gross\"])/len(dicionario[\"Gross\"])\n",
    "\n",
    "# Sem remoção de outlier\n",
    "\n",
    "valorEtapa2 = sum(dicionarioNormal[\"Gross\"])/len(dicionarioNormal[\"Gross\"])\n",
    "\n",
    "\n",
    "with open(\"etapa-2.txt\", \"w\") as arquivo:\n",
    "    arquivo.write(\"A media de receita bruta dos principais filmes foi {}\".format(valorEtapa2))\n"
   ]
  },
  {
   "cell_type": "markdown",
   "metadata": {},
   "source": [
    "## ETAPA 3"
   ]
  },
  {
   "cell_type": "code",
   "execution_count": 17,
   "metadata": {},
   "outputs": [
    {
     "name": "stdout",
     "output_type": "stream",
     "text": [
      "O ator/atriz com mais receita em filmes é Will Smith com 131.2 de média\n",
      "O ator/atriz com mais receita em filmes é Anthony Daniels com 451.8 de média\n"
     ]
    }
   ],
   "source": [
    "maior = 0;\n",
    "indice = 0;\n",
    "\n",
    "for index in range(len(dicionario[\"Actor\"])):\n",
    "    if(dicionario[\"Average per movie\"][index] > maior):\n",
    "        maior = dicionario[\"Average per movie\"][index];\n",
    "        indice = index;\n",
    "\n",
    "print(\"O ator/atriz com mais receita em filmes é {} com {} de média\".format(dicionario[\"Actor\"][indice], maior))\n",
    "\n",
    "# Sem remoção de outlier\n",
    "\n",
    "maior = 0;\n",
    "indice = 0;\n",
    "\n",
    "for index in range(len(dicionarioNormal[\"Actor\"])):\n",
    "    if(dicionarioNormal[\"Average per movie\"][index] > maior):\n",
    "        maior = dicionarioNormal[\"Average per movie\"][index];\n",
    "        indice = index;\n",
    "\n",
    "print(\"O ator/atriz com mais receita em filmes é {} com {} de média\".format(dicionario[\"Actor\"][indice], maior))\n",
    "\n",
    "\n",
    "with open(\"etapa-3.txt\", \"w\") as arquivo:\n",
    "    arquivo.write(\"O ator/atriz com mais receita em filmes é {} com {} de média\".format(dicionario[\"Actor\"][indice], maior))\n",
    " \n"
   ]
  },
  {
   "cell_type": "markdown",
   "metadata": {},
   "source": [
    "## ETAPA 4"
   ]
  },
  {
   "cell_type": "code",
   "execution_count": 18,
   "metadata": {},
   "outputs": [
    {
     "name": "stdout",
     "output_type": "stream",
     "text": [
      "O filme The Avengers aparece 6 vez(es) no dataset.\n",
      "O filme Harry Potter / Deathly Hallows (P2) aparece 4 vez(es) no dataset.\n",
      "O filme Catching Fire aparece 4 vez(es) no dataset.\n",
      "O filme Meet the Fockers aparece 3 vez(es) no dataset.\n",
      "O filme The Dark Knight aparece 3 vez(es) no dataset.\n",
      "O filme Star Wars: The Force Awakens aparece 3 vez(es) no dataset.\n",
      "O filme Shrek 2 aparece 2 vez(es) no dataset.\n",
      "O filme Return of the King aparece 2 vez(es) no dataset.\n",
      "O filme Avengers: Age of Ultron aparece 2 vez(es) no dataset.\n",
      "O filme Night at the Museum aparece 2 vez(es) no dataset.\n",
      "O filme Dead Man's Chest aparece 2 vez(es) no dataset.\n",
      "O filme Minions aparece 1 vez(es) no dataset.\n",
      "O filme American Sniper aparece 1 vez(es) no dataset.\n",
      "O filme Sixth Sense aparece 1 vez(es) no dataset.\n",
      "O filme The Grinch aparece 1 vez(es) no dataset.\n",
      "O filme Ocean's Eleven aparece 1 vez(es) no dataset.\n",
      "O filme Titanic aparece 1 vez(es) no dataset.\n",
      "O filme The Phantom Menace aparece 1 vez(es) no dataset.\n",
      "O filme War of the Worlds aparece 1 vez(es) no dataset.\n",
      "O filme The Martian aparece 1 vez(es) no dataset.\n",
      "O filme Independence Day aparece 1 vez(es) no dataset.\n",
      "O filme Toy Story 3 aparece 1 vez(es) no dataset.\n",
      "O filme Transformers 4 aparece 1 vez(es) no dataset.\n",
      "O filme Hotel Transylvania 2 aparece 1 vez(es) no dataset.\n",
      "O filme World War Z aparece 1 vez(es) no dataset.\n",
      "O filme The Dark Knight Rises aparece 1 vez(es) no dataset.\n",
      "O filme Men in Black aparece 1 vez(es) no dataset.\n",
      "O filme The LEGO Movie aparece 1 vez(es) no dataset.\n"
     ]
    }
   ],
   "source": [
    "filmes = set(dicionario[\"#1 Movie\"])\n",
    "\n",
    "dicionarioResultado = {x:0 for x in filmes}\n",
    "\n",
    "for filme in filmes:\n",
    "    for x in dicionario[\"#1 Movie\"]:\n",
    "        if x == filme:\n",
    "            dicionarioResultado[filme] += 1\n",
    "\n",
    "ordenado = dict(sorted(dicionarioResultado.items(), key=lambda item: item[1], reverse=True))\n",
    "\n",
    "string = \"\"\n",
    "\n",
    "for valores in ordenado:\n",
    "    print(\"O filme {} aparece {} vez(es) no dataset.\".format(valores, dicionarioResultado[valores]))\n",
    "    string += \"O filme {} aparece {} vez(es) no dataset.\\n\".format(valores, dicionarioResultado[valores])\n",
    "\n",
    "with open(\"etapa-4.txt\", \"w\") as arquivo:\n",
    "    arquivo.write(string)"
   ]
  },
  {
   "cell_type": "markdown",
   "metadata": {},
   "source": [
    "## ETAPA 5"
   ]
  },
  {
   "cell_type": "code",
   "execution_count": 19,
   "metadata": {},
   "outputs": [
    {
     "name": "stdout",
     "output_type": "stream",
     "text": [
      "Harrison Ford - 4871.7\n",
      "Samuel L. Jackson - 4772.8\n",
      "Morgan Freeman - 4468.3\n",
      "Tom Hanks - 4340.8\n",
      "Robert Downey. Jr. - 3947.3\n",
      "Eddie Murphy - 3810.4\n",
      "Tom Cruise - 3587.2\n",
      "Johnny Depp - 3368.6\n",
      "Michael Caine - 3351.5\n",
      "Scarlett Johansson - 3341.2\n",
      "Gary Oldman - 3294.0\n",
      "Robin Williams - 3279.3\n",
      "Bruce Willis - 3189.4\n",
      "Stellan Skarsgard - 3175.0\n",
      "Anthony Daniels - 3162.9\n",
      "Ian McKellen - 3150.4\n",
      "Will Smith - 3149.1\n",
      "Stanley Tucci - 3123.9\n",
      "Matt Damon - 3107.3\n",
      "Robert DeNiro - 3081.3\n",
      "Cameron Diaz - 3031.7\n",
      "Liam Neeson - 2942.7\n",
      "Andy Serkis - 2890.6\n",
      "Don Cheadle - 2885.4\n",
      "Ben Stiller - 2827.0\n",
      "Helena Bonham Carter - 2822.0\n",
      "Orlando Bloom - 2815.8\n",
      "Woody Harrelson - 2815.8\n",
      "Cate Blanchett - 2802.6\n",
      "Julia Roberts - 2735.3\n",
      "Elizabeth Banks - 2726.3\n",
      "Ralph Fiennes - 2715.3\n",
      "Emma Watson - 2681.9\n",
      "Tommy Lee Jones - 2681.3\n",
      "Brad Pitt - 2680.9\n",
      "Adam Sandler - 2661.0\n",
      "Daniel Radcliffe - 2634.4\n",
      "Jonah Hill - 2605.1\n",
      "Owen Wilson - 2602.3\n",
      "Idris Elba - 2580.6\n",
      "Bradley Cooper - 2557.7\n",
      "Mark Wahlberg - 2549.8\n",
      "Jim Carrey - 2545.2\n",
      "Dustin Hoffman - 2522.1\n",
      "Leonardo DiCaprio - 2518.3\n",
      "Jeremy Renner - 2500.3\n",
      "Philip Seymour Hoffman - 2463.7\n",
      "Sandra Bullock - 2462.6\n",
      "Chris Evans - 2457.8\n",
      "Anne Hathaway - 2416.5\n"
     ]
    }
   ],
   "source": [
    "resultado5 = {}\n",
    "\n",
    "string = \"\"\n",
    "\n",
    "for x in range(len(dicionarioNormal[\"Actor\"])):\n",
    "    resultado5[dicionarioNormal[\"Actor\"][x]] = dicionarioNormal[\"Total Gross\"][x]\n",
    "\n",
    "resultadoEtapa5 = sorted(resultado5.items(),key=lambda x: x[1], reverse=True)\n",
    "\n",
    "for x in resultadoEtapa5:\n",
    "    print(\"{} - {}\".format(x[0], x[1]))\n",
    "    string += \"{} - {}\\n\".format(x[0], x[1])\n",
    "\n",
    "with open(\"etapa-5.txt\", \"w\") as arquivo:\n",
    "    arquivo.write(string)\n"
   ]
  },
  {
   "cell_type": "code",
   "execution_count": null,
   "metadata": {},
   "outputs": [],
   "source": []
  }
 ],
 "metadata": {
  "kernelspec": {
   "display_name": "Python 3",
   "language": "python",
   "name": "python3"
  },
  "language_info": {
   "codemirror_mode": {
    "name": "ipython",
    "version": 3
   },
   "file_extension": ".py",
   "mimetype": "text/x-python",
   "name": "python",
   "nbconvert_exporter": "python",
   "pygments_lexer": "ipython3",
   "version": "3.12.3"
  }
 },
 "nbformat": 4,
 "nbformat_minor": 2
}
