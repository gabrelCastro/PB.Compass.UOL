{
 "cells": [
  {
   "cell_type": "markdown",
   "metadata": {},
   "source": [
    "## ETAPA 1"
   ]
  },
  {
   "cell_type": "code",
   "execution_count": 1373,
   "metadata": {},
   "outputs": [],
   "source": [
    "import pandas as pd\n",
    "import numpy as np\n",
    "import matplotlib.pyplot as plt\n",
    "\n",
    "dataFrame = pd.read_csv('googleplaystore.csv') # Importando\n"
   ]
  },
  {
   "cell_type": "markdown",
   "metadata": {},
   "source": [
    "## ETAPA 2\n",
    "\n",
    "#### Remover linhas duplicadas"
   ]
  },
  {
   "cell_type": "code",
   "execution_count": 1374,
   "metadata": {},
   "outputs": [],
   "source": [
    "# Remove as linhas duplicadas que possuem o mesmo número de reviews e o mesmo nome de aplicativo\n",
    "\n",
    "dataFrame = dataFrame.drop_duplicates(subset=['App','Last Updated']) \n"
   ]
  },
  {
   "cell_type": "markdown",
   "metadata": {},
   "source": [
    "Verifiquei que existe uma linha que está com os dados para a esquerda"
   ]
  },
  {
   "cell_type": "code",
   "execution_count": 1375,
   "metadata": {},
   "outputs": [
    {
     "name": "stdout",
     "output_type": "stream",
     "text": [
      "App               Life Made WI-Fi Touchscreen Photo Frame\n",
      "Category                                              1.9\n",
      "Rating                                               19.0\n",
      "Reviews                                              3.0M\n",
      "Size                                               1,000+\n",
      "Installs                                             Free\n",
      "Type                                                    0\n",
      "Price                                            Everyone\n",
      "Content Rating                                        NaN\n",
      "Genres                                  February 11, 2018\n",
      "Last Updated                                       1.0.19\n",
      "Current Ver                                    4.0 and up\n",
      "Android Ver                                           NaN\n",
      "Name: 10472, dtype: object\n",
      "\n",
      "App               Life Made WI-Fi Touchscreen Photo Frame\n",
      "Category                                            TOOLS\n",
      "Rating                                                1.9\n",
      "Reviews                                                19\n",
      "Size                                                 3.0M\n",
      "Installs                                           1,000+\n",
      "Type                                                 Free\n",
      "Price                                                   0\n",
      "Content Rating                                   Everyone\n",
      "Genres                                                NaN\n",
      "Last Updated                            February 11, 2018\n",
      "Current Ver                                        1.0.19\n",
      "Android Ver                                    4.0 and up\n",
      "Name: 10472, dtype: object\n"
     ]
    },
    {
     "name": "stderr",
     "output_type": "stream",
     "text": [
      "C:\\Users\\gf-ca\\AppData\\Local\\Temp\\ipykernel_3616\\2273508854.py:2: FutureWarning: Setting an item of incompatible dtype is deprecated and will raise an error in a future version of pandas. Value '1.9' has dtype incompatible with float64, please explicitly cast to a compatible dtype first.\n",
      "  dataFrame.loc[10472] = dataFrame.loc[10472].shift(1) # Passa todos os dados pra esquerda\n"
     ]
    }
   ],
   "source": [
    "print(dataFrame.loc[10472] , end=\"\\n\\n\")\n",
    "dataFrame.loc[10472] = dataFrame.loc[10472].shift(1) # Passa todos os dados pra esquerda\n",
    "dataFrame.loc[10472, 'App'] = 'Life Made WI-Fi Touchscreen Photo Frame'\n",
    "dataFrame.loc[10472, 'Category'] = 'TOOLS' # Valor que estava nulo, escolhi colocar na coluna TOOLS\n",
    "dataFrame.loc[10472, 'Rating'] = float(dataFrame.loc[10472, 'Rating'])\n",
    "dataFrame.loc[10472, 'Reviews'] = int(dataFrame.loc[10472, 'Reviews'])\n",
    "print(dataFrame.loc[10472])"
   ]
  },
  {
   "cell_type": "markdown",
   "metadata": {},
   "source": [
    "#### Gráfico de barras contendo os top 5 Apps por número de instalação\n",
    "\n",
    "Esse pedido é complicado devido ao fato da coluna 'Installs' não ser numérica e sim se referir a intervalos, o que torna um 'rankeamento' incorreto, pois existem muitos Apps na mesma categoria e colocá-los como primeiro ou segundo não seria correto pois existem outros em igual posição."
   ]
  },
  {
   "cell_type": "markdown",
   "metadata": {},
   "source": [
    "<p> Primeiro vamos descobrir quais são os tipos de valores existentes"
   ]
  },
  {
   "cell_type": "code",
   "execution_count": 1376,
   "metadata": {},
   "outputs": [
    {
     "data": {
      "text/plain": [
       "Installs\n",
       "1,000,000+        1423\n",
       "100,000+          1115\n",
       "10,000+           1032\n",
       "10,000,000+        948\n",
       "1,000+             890\n",
       "100+               710\n",
       "5,000,000+         613\n",
       "500,000+           505\n",
       "50,000+            469\n",
       "5,000+             468\n",
       "10+                385\n",
       "500+               328\n",
       "50,000,000+        207\n",
       "50+                204\n",
       "100,000,000+       195\n",
       "5+                  82\n",
       "1+                  67\n",
       "500,000,000+        26\n",
       "1,000,000,000+      22\n",
       "0+                  14\n",
       "0                    1\n",
       "Name: count, dtype: int64"
      ]
     },
     "execution_count": 1376,
     "metadata": {},
     "output_type": "execute_result"
    }
   ],
   "source": [
    "dataFrame['Installs'].value_counts()"
   ]
  },
  {
   "cell_type": "markdown",
   "metadata": {},
   "source": [
    "Verifica-se que os dados estão dados entre intervalos. O que acredito ser indicado seria categorizar os apps de acordo com esses intervalos"
   ]
  },
  {
   "cell_type": "code",
   "execution_count": 1377,
   "metadata": {},
   "outputs": [
    {
     "data": {
      "image/png": "[encoded data removed]",
      "text/plain": [
       "<Figure size 1000x1000 with 1 Axes>"
      ]
     },
     "metadata": {},
     "output_type": "display_data"
    }
   ],
   "source": [
    "plt.figure(figsize=(10,10))\n",
    "\n",
    "dataFrame['Installs'] = ['0'  if i == 'Free' else i for i in dataFrame['Installs']] ## Tratando o FREE\n",
    "\n",
    "dataFrame['Installs'] = [int(x.replace('+','').replace(',','')) for x in dataFrame['Installs']] ## Tratando o + e ,\n",
    "\n",
    "def categorizando(i): # Função para categorizar\n",
    "        if i < 100000:\n",
    "            return 'Menos de 100 mil'\n",
    "        elif i < 1000000:\n",
    "            return 'Entre 100 mil e 1 milhão'\n",
    "        elif i < 10000000:\n",
    "            return 'Entre 1 milhão e 10 milhões'\n",
    "        elif i < 100000000:\n",
    "            return 'Entre 10 milhões e 10 milhões'\n",
    "        elif i < 500000000:\n",
    "            return 'Entre 100 milhões e 500 milhões'\n",
    "        elif i < 1000000000:\n",
    "            return 'Entre 500 milhões e 1 bilhão'\n",
    "        else:\n",
    "             return 'Mais de 1 bilhão'\n",
    "\n",
    "dataFrame['Categoria Instalacoes'] = list(map(categorizando,dataFrame['Installs'])) # Criando uma nova coluna com as categorias\n",
    "\n",
    "dataFrame.sort_values(by='Installs',ascending=False,inplace=True) # Ordenando os valores de acordo com as instalações\n",
    "\n",
    "plt.barh(dataFrame['Categoria Instalacoes'].value_counts().index,  # Categorias no eixo X\n",
    "        dataFrame['Categoria Instalacoes'].value_counts().values, # Contagem no eixo Y\n",
    "        color='blue')\n",
    "\n",
    "## Escreve na coluna com maior valor alguns dos aplicativos com mais de 1 bilhão de instalações\n",
    "plt.text(100, 6, \"({}, {}, {}, {}, {}...)\".format(*(dataFrame['App'][0:5].values)), color=\"red\",va='center', fontweight=\"bold\",ha='left')\n",
    "plt.title(\"Número de instalações por categoria\")\n",
    "plt.xlabel(\"Frequência\")\n",
    "plt.ylabel(\"\")\n",
    "plt.show()\n",
    "\n"
   ]
  },
  {
   "cell_type": "markdown",
   "metadata": {},
   "source": [
    "#### Grafico de pizza com as categorias de Apps existentes com sua frequência"
   ]
  },
  {
   "cell_type": "code",
   "execution_count": 1378,
   "metadata": {},
   "outputs": [
    {
     "data": {
      "text/plain": [
       "([<matplotlib.patches.Wedge at 0x219816b7a10>,\n",
       "  <matplotlib.patches.Wedge at 0x2197fca4e90>,\n",
       "  <matplotlib.patches.Wedge at 0x219816b7f20>,\n",
       "  <matplotlib.patches.Wedge at 0x219816dc3e0>],\n",
       " [Text(0.9107403471410311, 0.6168889852229772, 'FAMILY'),\n",
       "  Text(0.07508215986313103, 1.0974345854174121, 'GAME'),\n",
       "  Text(-0.5396879072380852, 0.9585076748680607, 'TOOLS'),\n",
       "  Text(-0.42259657057632055, -1.0155846289389836, 'Outros')])"
      ]
     },
     "execution_count": 1378,
     "metadata": {},
     "output_type": "execute_result"
    },
    {
     "data": {
      "image/png": "[encoded data removed]",
      "text/plain": [
       "<Figure size 640x480 with 1 Axes>"
      ]
     },
     "metadata": {},
     "output_type": "display_data"
    }
   ],
   "source": [
    "# Faz basicamente uma contagem de quantas vezes os valores de categoria aparecem nas linhas\n",
    "todosOsValores= dataFrame['Category'].value_counts() \n",
    "\n",
    "# Criando uma série com a soma dos valores que são maiores ou iguais a 800\n",
    "outros = pd.Series({'Outros': todosOsValores[todosOsValores < 800].sum()})\n",
    "\n",
    "# Concatenando os valores maiores ou iguais a 800 com a série de outros\n",
    "resultado = pd.concat([todosOsValores[todosOsValores >= 800],outros])\n",
    "\n",
    "# Plotando o gráfico de pizza\n",
    "plt.pie(resultado,labels=resultado.index)\n"
   ]
  },
  {
   "cell_type": "markdown",
   "metadata": {},
   "source": [
    "#### APP MAIS CARO EXISTENTE"
   ]
  },
  {
   "cell_type": "code",
   "execution_count": 1379,
   "metadata": {},
   "outputs": [
    {
     "name": "stdout",
     "output_type": "stream",
     "text": [
      "O aplicativo mais caro é o I'm Rich - Trump Edition e custa $400.0\n"
     ]
    }
   ],
   "source": [
    "# Função para controlar o erro que dara ao fazer o casting com valores que não são números\n",
    "def transformar(x):\n",
    "    try:\n",
    "        return float(x)\n",
    "    except:\n",
    "        return 0\n",
    "    \n",
    "# Transformando os valores da coluna Price para float\n",
    "dataFrame['Price'] = [transformar(x.replace('$','')) for x in dataFrame['Price']]\n",
    "\n",
    "# Ordenando os valores de acordo com o preço\n",
    "dataFrame.sort_values(by='Price',ascending=False,inplace=True)\n",
    "\n",
    "# Printando o aplicativo mais caro\n",
    "print(\"O aplicativo mais caro é o \" + dataFrame[['App','Price']].iloc[0]['App'] + \" e custa $\" + str(dataFrame[['App','Price']].iloc[0]['Price']))"
   ]
  },
  {
   "cell_type": "markdown",
   "metadata": {},
   "source": [
    "#### Quantos Apps são classificados com Mature 17"
   ]
  },
  {
   "cell_type": "code",
   "execution_count": 1380,
   "metadata": {},
   "outputs": [
    {
     "name": "stdout",
     "output_type": "stream",
     "text": [
      "O número de aplicativos com classificação Mature 17+ é 395\n"
     ]
    }
   ],
   "source": [
    "# Pegando o número\n",
    "numero = int(dataFrame['Content Rating'].value_counts()['Mature 17+'])\n",
    "\n",
    "# Printando o número\n",
    "print(\"O número de aplicativos com classificação Mature 17+ é \" + str(numero))"
   ]
  },
  {
   "cell_type": "markdown",
   "metadata": {},
   "source": [
    "#### Top 10 Apps em número de Reviews"
   ]
  },
  {
   "cell_type": "code",
   "execution_count": 1381,
   "metadata": {},
   "outputs": [
    {
     "data": {
      "text/html": [
       "<div>\n",
       "<style scoped>\n",
       "    .dataframe tbody tr th:only-of-type {\n",
       "        vertical-align: middle;\n",
       "    }\n",
       "\n",
       "    .dataframe tbody tr th {\n",
       "        vertical-align: top;\n",
       "    }\n",
       "\n",
       "    .dataframe thead th {\n",
       "        text-align: right;\n",
       "    }\n",
       "</style>\n",
       "<table border=\"1\" class=\"dataframe\">\n",
       "  <thead>\n",
       "    <tr style=\"text-align: right;\">\n",
       "      <th></th>\n",
       "      <th>App</th>\n",
       "      <th>Reviews</th>\n",
       "    </tr>\n",
       "  </thead>\n",
       "  <tbody>\n",
       "    <tr>\n",
       "      <th>2544</th>\n",
       "      <td>Facebook</td>\n",
       "      <td>78158306</td>\n",
       "    </tr>\n",
       "    <tr>\n",
       "      <th>336</th>\n",
       "      <td>WhatsApp Messenger</td>\n",
       "      <td>69119316</td>\n",
       "    </tr>\n",
       "    <tr>\n",
       "      <th>2545</th>\n",
       "      <td>Instagram</td>\n",
       "      <td>66577313</td>\n",
       "    </tr>\n",
       "    <tr>\n",
       "      <th>335</th>\n",
       "      <td>Messenger – Text and Video Chat for Free</td>\n",
       "      <td>56642847</td>\n",
       "    </tr>\n",
       "    <tr>\n",
       "      <th>1670</th>\n",
       "      <td>Clash of Clans</td>\n",
       "      <td>44891723</td>\n",
       "    </tr>\n",
       "    <tr>\n",
       "      <th>4005</th>\n",
       "      <td>Clean Master- Space Cleaner &amp; Antivirus</td>\n",
       "      <td>42916526</td>\n",
       "    </tr>\n",
       "    <tr>\n",
       "      <th>1654</th>\n",
       "      <td>Subway Surfers</td>\n",
       "      <td>27722264</td>\n",
       "    </tr>\n",
       "    <tr>\n",
       "      <th>3665</th>\n",
       "      <td>YouTube</td>\n",
       "      <td>25655305</td>\n",
       "    </tr>\n",
       "    <tr>\n",
       "      <th>7536</th>\n",
       "      <td>Security Master - Antivirus, VPN, AppLock, Boo...</td>\n",
       "      <td>24900999</td>\n",
       "    </tr>\n",
       "    <tr>\n",
       "      <th>1660</th>\n",
       "      <td>Clash Royale</td>\n",
       "      <td>23133508</td>\n",
       "    </tr>\n",
       "  </tbody>\n",
       "</table>\n",
       "</div>"
      ],
      "text/plain": [
       "                                                    App   Reviews\n",
       "2544                                           Facebook  78158306\n",
       "336                                  WhatsApp Messenger  69119316\n",
       "2545                                          Instagram  66577313\n",
       "335            Messenger – Text and Video Chat for Free  56642847\n",
       "1670                                     Clash of Clans  44891723\n",
       "4005            Clean Master- Space Cleaner & Antivirus  42916526\n",
       "1654                                     Subway Surfers  27722264\n",
       "3665                                            YouTube  25655305\n",
       "7536  Security Master - Antivirus, VPN, AppLock, Boo...  24900999\n",
       "1660                                       Clash Royale  23133508"
      ]
     },
     "execution_count": 1381,
     "metadata": {},
     "output_type": "execute_result"
    }
   ],
   "source": [
    "dataFrame['Reviews'] = [int(x) for x in dataFrame['Reviews']] # Fazendo o casting para int\n",
    "\n",
    "dataFrame.sort_values(by='Reviews',ascending=False,inplace=True) # Ordenando os valores de acordo com as reviews\n",
    "\n",
    "dataFrame[['App','Reviews']].head(10) # Printando os 5 aplicativos com mais reviews"
   ]
  },
  {
   "cell_type": "markdown",
   "metadata": {},
   "source": [
    "#### Top 5 Categorias com maior tamanho de aplicativo"
   ]
  },
  {
   "cell_type": "code",
   "execution_count": 1382,
   "metadata": {},
   "outputs": [
    {
     "data": {
      "text/plain": [
       "<BarContainer object of 5 artists>"
      ]
     },
     "execution_count": 1382,
     "metadata": {},
     "output_type": "execute_result"
    },
    {
     "data": {
      "image/png": "[encoded data removed]",
      "text/plain": [
       "<Figure size 640x480 with 1 Axes>"
      ]
     },
     "metadata": {},
     "output_type": "display_data"
    }
   ],
   "source": [
    "# Função para nomear cada linha da nova coluna\n",
    "def transformar(x):\n",
    "    if('M' in x):\n",
    "        return float(x.replace('M',''))\n",
    "    elif('k' in x):\n",
    "        return float(x.replace('k',''))/1000\n",
    "    if(x == 'Varies with device'):\n",
    "        return 0.0\n",
    "\n",
    "# Aplicando a função a coluna Size\n",
    "dataFrame['Size'] = dataFrame['Size'].apply(transformar)\n",
    "dataFrame.sort_values(ascending=False, by='Size',inplace=True)\n",
    "\n",
    "# Calculando a média dos valores diferentes de 0\n",
    "media = dataFrame['Size'][dataFrame['Size'] != 0].mean()\n",
    "\n",
    "# Substituindo os valores 0 pela média\n",
    "dataFrame['Size'] = [media if x == 0 else x for x in dataFrame['Size']]\n",
    "\n",
    "# Agrupando os valores pela categoria e calculando a média\n",
    "dados = dataFrame.groupby('Category')['Size'].mean().sort_values(ascending=False)[0:5]\n",
    "\n",
    "plt.barh(dados.index,dados.values,color='green')"
   ]
  },
  {
   "cell_type": "markdown",
   "metadata": {},
   "source": [
    "#### O aplicativo com mais de 1 bilhão de instalações mais bem avaliado"
   ]
  },
  {
   "cell_type": "code",
   "execution_count": 1383,
   "metadata": {},
   "outputs": [
    {
     "data": {
      "text/html": [
       "<div>\n",
       "<style scoped>\n",
       "    .dataframe tbody tr th:only-of-type {\n",
       "        vertical-align: middle;\n",
       "    }\n",
       "\n",
       "    .dataframe tbody tr th {\n",
       "        vertical-align: top;\n",
       "    }\n",
       "\n",
       "    .dataframe thead th {\n",
       "        text-align: right;\n",
       "    }\n",
       "</style>\n",
       "<table border=\"1\" class=\"dataframe\">\n",
       "  <thead>\n",
       "    <tr style=\"text-align: right;\">\n",
       "      <th></th>\n",
       "      <th>App</th>\n",
       "      <th>Rating</th>\n",
       "    </tr>\n",
       "  </thead>\n",
       "  <tbody>\n",
       "    <tr>\n",
       "      <th>1654</th>\n",
       "      <td>Subway Surfers</td>\n",
       "      <td>4.5</td>\n",
       "    </tr>\n",
       "    <tr>\n",
       "      <th>2808</th>\n",
       "      <td>Google Photos</td>\n",
       "      <td>4.5</td>\n",
       "    </tr>\n",
       "    <tr>\n",
       "      <th>5395</th>\n",
       "      <td>Google Photos</td>\n",
       "      <td>4.5</td>\n",
       "    </tr>\n",
       "    <tr>\n",
       "      <th>2545</th>\n",
       "      <td>Instagram</td>\n",
       "      <td>4.5</td>\n",
       "    </tr>\n",
       "    <tr>\n",
       "      <th>4170</th>\n",
       "      <td>Google Drive</td>\n",
       "      <td>4.4</td>\n",
       "    </tr>\n",
       "  </tbody>\n",
       "</table>\n",
       "</div>"
      ],
      "text/plain": [
       "                 App Rating\n",
       "1654  Subway Surfers    4.5\n",
       "2808   Google Photos    4.5\n",
       "5395   Google Photos    4.5\n",
       "2545       Instagram    4.5\n",
       "4170    Google Drive    4.4"
      ]
     },
     "execution_count": 1383,
     "metadata": {},
     "output_type": "execute_result"
    }
   ],
   "source": [
    "dataFrame[dataFrame['Installs'] == 1000000000].sort_values(by='Rating',ascending=False)[['App','Rating']][0:5]"
   ]
  },
  {
   "cell_type": "markdown",
   "metadata": {},
   "source": [
    "4 Apps tem o mesmo valor de rating maior, portanto, para desempatar usaremos a quantidade de pessoas que avaliaram o aplicativo, aumentando o tamanho da amosta e a precisão do resultado. Para isso, irei criar um indicativo para medir a qualidade do produto. Farei uma média ponderada com rating com peso 7 e número de reviews dividido por 100 milhões com peso 3."
   ]
  },
  {
   "cell_type": "code",
   "execution_count": 1384,
   "metadata": {},
   "outputs": [
    {
     "data": {
      "text/html": [
       "<div>\n",
       "<style scoped>\n",
       "    .dataframe tbody tr th:only-of-type {\n",
       "        vertical-align: middle;\n",
       "    }\n",
       "\n",
       "    .dataframe tbody tr th {\n",
       "        vertical-align: top;\n",
       "    }\n",
       "\n",
       "    .dataframe thead th {\n",
       "        text-align: right;\n",
       "    }\n",
       "</style>\n",
       "<table border=\"1\" class=\"dataframe\">\n",
       "  <thead>\n",
       "    <tr style=\"text-align: right;\">\n",
       "      <th></th>\n",
       "      <th>App</th>\n",
       "      <th>Qualidade</th>\n",
       "      <th>Rating</th>\n",
       "      <th>Reviews</th>\n",
       "    </tr>\n",
       "  </thead>\n",
       "  <tbody>\n",
       "    <tr>\n",
       "      <th>2544</th>\n",
       "      <td>Facebook</td>\n",
       "      <td>2.344749</td>\n",
       "      <td>4.1</td>\n",
       "      <td>78158306</td>\n",
       "    </tr>\n",
       "  </tbody>\n",
       "</table>\n",
       "</div>"
      ],
      "text/plain": [
       "           App  Qualidade Rating   Reviews\n",
       "2544  Facebook   2.344749    4.1  78158306"
      ]
     },
     "execution_count": 1384,
     "metadata": {},
     "output_type": "execute_result"
    }
   ],
   "source": [
    "dataFrame[\"Qualidade\"] = dataFrame.apply(lambda x:((x['Rating']*7+x['Reviews']*3)/100000000),axis=1)\n",
    "\n",
    "dados = dataFrame[dataFrame[\"Installs\"] == 1000000000][\"Qualidade\"]\n",
    "\n",
    "dataFrame[dataFrame['Installs'] == 1000000000].sort_values(by=['Qualidade'],ascending=False)[['App','Qualidade','Rating','Reviews']].head(1)"
   ]
  },
  {
   "cell_type": "markdown",
   "metadata": {},
   "source": [
    "Escolhi fazer um gráfico que mostra a distância entre o primerio lugar com relação aos outros com mais de 1B com índice qualidade"
   ]
  },
  {
   "cell_type": "code",
   "execution_count": 1385,
   "metadata": {},
   "outputs": [
    {
     "data": {
      "image/png": "[encoded data removed]",
      "text/plain": [
       "<Figure size 500x700 with 1 Axes>"
      ]
     },
     "metadata": {},
     "output_type": "display_data"
    }
   ],
   "source": [
    "plt.figure(figsize=(5, 7))\n",
    "\n",
    "plt.scatter([1 for x in range(len(dados))], dados.values, color='blue',marker='o', label='Outros Apps')\n",
    "\n",
    "plt.scatter(1, 2.344749, color='red', s=100, edgecolors='black', label='Facebook') \n",
    "plt.xticks([])\n",
    "plt.xlabel('')\n",
    "plt.ylabel('Qualidade',rotation=0, labelpad=40)\n",
    "plt.title('Ranking de Qualidade')\n",
    "plt.legend(loc='lower right')# Exibir o gráfico\n",
    "plt.show()"
   ]
  }
 ],
 "metadata": {
  "kernelspec": {
   "display_name": "Python 3",
   "language": "python",
   "name": "python3"
  },
  "language_info": {
   "codemirror_mode": {
    "name": "ipython",
    "version": 3
   },
   "file_extension": ".py",
   "mimetype": "text/x-python",
   "name": "python",
   "nbconvert_exporter": "python",
   "pygments_lexer": "ipython3",
   "version": "3.12.3"
  }
 },
 "nbformat": 4,
 "nbformat_minor": 2
}
