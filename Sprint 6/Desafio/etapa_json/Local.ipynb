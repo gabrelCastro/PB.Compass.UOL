{
 "cells": [
  {
   "cell_type": "code",
   "execution_count": 1,
   "id": "39b7c00f-8343-4a59-b1f3-d59437b9219f",
   "metadata": {},
   "outputs": [
    {
     "name": "stdout",
     "output_type": "stream",
     "text": [
      "+-----+--------------------+-------------------+-------+-----------------+--------------------+--------------------+----------+--------------------+------------+--------------------+-----+------------+----------+\n",
      "|adult|       backdrop_path|          genre_ids|     id|original_language|      original_title|            overview|popularity|         poster_path|release_date|               title|video|vote_average|vote_count|\n",
      "+-----+--------------------+-------------------+-------+-----------------+--------------------+--------------------+----------+--------------------+------------+--------------------+-----+------------+----------+\n",
      "|false|/8rpDcsfLJypbO6vR...|      [878, 12, 28]|  76600|               en|Avatar: The Way o...|Set more than a d...|   37.6161|/t6HIqrRAclMCA60N...|  2022-12-14|Avatar: The Way o...|false|       7.611|     12503|\n",
      "|false|/8btfz81bOJ2lC7cu...|       [16, 14, 12]| 980477|               zh|      哪吒之魔童闹海|Following the Tri...|   35.3386|/5lUmWTGkEcYnXuji...|  2025-01-29|            Ne Zha 2|false|       7.866|       161|\n",
      "|false|/k6EOrckWFuz7I4z4...|      [12, 28, 878]| 140607|               en|Star Wars: The Fo...|Thirty years afte...|   16.4186|/wqnLdwVXoBjKibFR...|  2015-12-15|Star Wars: The Fo...|false|         7.3|     19706|\n",
      "|false|/p5ozvmdgsmbWe0H8...|[16, 12, 35, 10751]|1022789|               en|        Inside Out 2|Teenager Riley's ...|   50.0548|/vpnVM9B6NMmQpWeZ...|  2024-06-11|        Inside Out 2|false|       7.556|      5785|\n",
      "|false|/cHkhb5A4gQRK6zs6...|       [28, 53, 80]| 168259|               en|           Furious 7|Deckard Shaw seek...|   13.6907|/wurKlC3VKUgcfsn0...|  2015-04-01|           Furious 7|false|       7.226|     10783|\n",
      "+-----+--------------------+-------------------+-------+-----------------+--------------------+--------------------+----------+--------------------+------------+--------------------+-----+------------+----------+\n",
      "only showing top 5 rows\n",
      "\n"
     ]
    }
   ],
   "source": [
    "from pyspark.sql import SparkSession\n",
    "from pyspark.sql.functions import array_contains, col, lit, when\n",
    "\n",
    "\n",
    "spark = SparkSession.builder.appName(\"jsonUp\").getOrCreate()\n",
    "\n",
    "df = spark.read.json('json0.json')\n",
    "\n",
    "df.show(5)"
   ]
  },
  {
   "cell_type": "code",
   "execution_count": 2,
   "id": "fa657327-a0c5-42fb-b919-e7ba4414b21a",
   "metadata": {},
   "outputs": [
    {
     "name": "stdout",
     "output_type": "stream",
     "text": [
      "+--------------------+\n",
      "|       backdrop_path|\n",
      "+--------------------+\n",
      "|/8rpDcsfLJypbO6vR...|\n",
      "|/8btfz81bOJ2lC7cu...|\n",
      "|/k6EOrckWFuz7I4z4...|\n",
      "|/p5ozvmdgsmbWe0H8...|\n",
      "|/cHkhb5A4gQRK6zs6...|\n",
      "+--------------------+\n",
      "only showing top 5 rows\n",
      "\n"
     ]
    }
   ],
   "source": [
    "df.select(\"backdrop_path\").show(5)\n",
    "\n",
    "# A coluna backdrop não é necessária\n",
    "\n",
    "df = df.drop(\"backdrop_path\")"
   ]
  },
  {
   "cell_type": "code",
   "execution_count": 3,
   "id": "6be43fc2-d23c-4f82-9af8-0a6bf4858cbc",
   "metadata": {},
   "outputs": [
    {
     "name": "stdout",
     "output_type": "stream",
     "text": [
      "root\n",
      " |-- adult: boolean (nullable = true)\n",
      " |-- genre_ids: array (nullable = true)\n",
      " |    |-- element: long (containsNull = true)\n",
      " |-- id: long (nullable = true)\n",
      " |-- original_language: string (nullable = true)\n",
      " |-- original_title: string (nullable = true)\n",
      " |-- overview: string (nullable = true)\n",
      " |-- popularity: double (nullable = true)\n",
      " |-- poster_path: string (nullable = true)\n",
      " |-- release_date: string (nullable = true)\n",
      " |-- title: string (nullable = true)\n",
      " |-- video: boolean (nullable = true)\n",
      " |-- vote_average: double (nullable = true)\n",
      " |-- vote_count: long (nullable = true)\n",
      "\n"
     ]
    }
   ],
   "source": [
    "df.printSchema()"
   ]
  },
  {
   "cell_type": "code",
   "execution_count": 4,
   "id": "09424b64-c008-4d62-9213-22172f0273b6",
   "metadata": {},
   "outputs": [
    {
     "name": "stdout",
     "output_type": "stream",
     "text": [
      "+-------------------+\n",
      "|          genre_ids|\n",
      "+-------------------+\n",
      "|      [878, 12, 28]|\n",
      "|       [16, 14, 12]|\n",
      "|      [12, 28, 878]|\n",
      "|[16, 12, 35, 10751]|\n",
      "|       [28, 53, 80]|\n",
      "+-------------------+\n",
      "only showing top 5 rows\n",
      "\n"
     ]
    }
   ],
   "source": [
    "df.select(\"genre_ids\").show(5)\n",
    "\n",
    "# Fazer a mesma lógica do csv"
   ]
  },
  {
   "cell_type": "code",
   "execution_count": 5,
   "id": "42c8443f-0454-4810-b76a-cc7a6e7b1c77",
   "metadata": {},
   "outputs": [
    {
     "name": "stdout",
     "output_type": "stream",
     "text": [
      "Gêneros filtrados!\n",
      "+--------------------+\n",
      "|              genero|\n",
      "+--------------------+\n",
      "|Action and Adventure|\n",
      "|           Adventure|\n",
      "|Action and Adventure|\n",
      "|           Adventure|\n",
      "|              Action|\n",
      "+--------------------+\n",
      "only showing top 5 rows\n",
      "\n"
     ]
    }
   ],
   "source": [
    "idAventura = 12\n",
    "idAcao = 28\n",
    "\n",
    "try:\n",
    "    df = df.withColumn(\n",
    "        \"genero_new\",\n",
    "        when(\n",
    "            (col(\"genre_ids\").isNotNull()) &\n",
    "            array_contains(col(\"genre_ids\"), idAcao) &\n",
    "            array_contains(col(\"genre_ids\"), idAventura),\n",
    "            lit(\"Action and Adventure\")\n",
    "        ).when(\n",
    "            (col(\"genre_ids\").isNotNull()) & array_contains(col(\"genre_ids\"), idAventura),\n",
    "            lit(\"Adventure\")\n",
    "        ).when(\n",
    "            (col(\"genre_ids\").isNotNull()) & array_contains(col(\"genre_ids\"), idAcao),\n",
    "            lit(\"Action\")\n",
    "        ).otherwise(lit(None))\n",
    "    )\n",
    "\n",
    "    df = df.filter(col(\"genero_new\").isNotNull()) \\\n",
    "           .drop(\"genre_ids\") \\\n",
    "           .withColumnRenamed(\"genero_new\", \"genero\")\n",
    "\n",
    "    print(\"Gêneros filtrados!\")\n",
    "except Exception as e:\n",
    "    print(\"Falha ao filtrar gêneros!\")\n",
    "    raise\n",
    "\n",
    "df.select(\"genero\").show(5)\n"
   ]
  },
  {
   "cell_type": "code",
   "execution_count": 6,
   "id": "eafdb4bb-4fa9-4278-a032-689aa4233953",
   "metadata": {},
   "outputs": [],
   "source": [
    "df.write.mode(\"append\").parquet(\"teste.parquet\")"
   ]
  },
  {
   "cell_type": "code",
   "execution_count": null,
   "id": "43684086-1cdc-46f0-936b-3297f6453783",
   "metadata": {},
   "outputs": [],
   "source": []
  }
 ],
 "metadata": {
  "kernelspec": {
   "display_name": "Python 3",
   "language": "python",
   "name": "python3"
  },
  "language_info": {
   "codemirror_mode": {
    "name": "ipython",
    "version": 3
   },
   "file_extension": ".py",
   "mimetype": "text/x-python",
   "name": "python",
   "nbconvert_exporter": "python",
   "pygments_lexer": "ipython3",
   "version": "3.12.3"
  }
 },
 "nbformat": 4,
 "nbformat_minor": 5
}
