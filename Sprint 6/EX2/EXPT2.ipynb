{
 "cells": [
  {
   "cell_type": "code",
   "execution_count": 40,
   "id": "239cb4c6-6c64-45b9-9fc8-63e6ae41acbc",
   "metadata": {},
   "outputs": [],
   "source": [
    "from pyspark.sql import SparkSession\n",
    "from pyspark.sql.functions import rand, floor, col, array, element_at,when, lit"
   ]
  },
  {
   "cell_type": "code",
   "execution_count": 41,
   "id": "1d498870-0fd3-4656-a710-27f77a8a4ae8",
   "metadata": {},
   "outputs": [],
   "source": [
    "from pyspark import SparkContext, SQLContext"
   ]
  },
  {
   "cell_type": "code",
   "execution_count": 42,
   "id": "e3056239-64f4-4474-a516-74f1b446d8a2",
   "metadata": {},
   "outputs": [],
   "source": [
    "spark = SparkSession.builder.master(\"local[*]\").appName(\"Exercicio Intro\").getOrCreate()"
   ]
  },
  {
   "cell_type": "code",
   "execution_count": 43,
   "id": "9f485d89-38a5-4cc3-bb09-cce53fc41c6e",
   "metadata": {},
   "outputs": [],
   "source": [
    "df_nomes = spark.read.csv(\"nomes_aleatorios.txt\")"
   ]
  },
  {
   "cell_type": "code",
   "execution_count": 44,
   "id": "cf126090-aa53-43f2-bad3-51547eed59be",
   "metadata": {},
   "outputs": [
    {
     "name": "stdout",
     "output_type": "stream",
     "text": [
      "+------------------+\n",
      "|               _c0|\n",
      "+------------------+\n",
      "|      Jess Nichols|\n",
      "| Luther Goicoechea|\n",
      "|     Mary Williams|\n",
      "|    Jeffrey Aleman|\n",
      "|Jacquelyne Bedford|\n",
      "+------------------+\n",
      "only showing top 5 rows\n",
      "\n"
     ]
    }
   ],
   "source": [
    "df_nomes.show(5)"
   ]
  },
  {
   "cell_type": "code",
   "execution_count": 45,
   "id": "cd12e4be-e7b2-4424-a0e0-a603b5fba47a",
   "metadata": {},
   "outputs": [
    {
     "name": "stdout",
     "output_type": "stream",
     "text": [
      "+------------------+\n",
      "|             Nomes|\n",
      "+------------------+\n",
      "|      Jess Nichols|\n",
      "| Luther Goicoechea|\n",
      "|     Mary Williams|\n",
      "|    Jeffrey Aleman|\n",
      "|Jacquelyne Bedford|\n",
      "|   Thomas Routzahn|\n",
      "|     Santos Vieyra|\n",
      "|      Betty Probst|\n",
      "|      Janet Pearce|\n",
      "|      Andrew Spies|\n",
      "+------------------+\n",
      "only showing top 10 rows\n",
      "\n"
     ]
    }
   ],
   "source": [
    "df_nomes = df_nomes.withColumnRenamed(\"_c0\", \"Nomes\")\n",
    "\n",
    "df_nomes.show(10)"
   ]
  },
  {
   "cell_type": "code",
   "execution_count": 46,
   "id": "8e3a72cf-e27e-45a7-be1b-9d31ee3fbf93",
   "metadata": {},
   "outputs": [],
   "source": [
    "df_nomes = df_nomes.withColumn(\n",
    "    \"Escolaridade\",\n",
    "    when(rand() < 1/3, \"Fundamental\")\n",
    "    .when(rand() < 0.5, \"Medio\")\n",
    "    .otherwise(\"Superior\")\n",
    ")"
   ]
  },
  {
   "cell_type": "code",
   "execution_count": 47,
   "id": "5e0002a8-ba61-4382-affd-ed0730bdd76a",
   "metadata": {},
   "outputs": [
    {
     "name": "stdout",
     "output_type": "stream",
     "text": [
      "+------------------+------------+\n",
      "|             Nomes|Escolaridade|\n",
      "+------------------+------------+\n",
      "|      Jess Nichols|       Medio|\n",
      "| Luther Goicoechea|       Medio|\n",
      "|     Mary Williams| Fundamental|\n",
      "|    Jeffrey Aleman|    Superior|\n",
      "|Jacquelyne Bedford|       Medio|\n",
      "+------------------+------------+\n",
      "only showing top 5 rows\n",
      "\n"
     ]
    }
   ],
   "source": [
    "df_nomes.show(5)"
   ]
  },
  {
   "cell_type": "code",
   "execution_count": 48,
   "id": "5be35c81-8d67-4e79-80cc-4cb57712b45c",
   "metadata": {},
   "outputs": [],
   "source": [
    "paises = [\"Uruguai\", \"Venezuela\", \"Guiana Francesa\",\"Argentina\", \"Bolívia\", \"Brasil\", \"Chile\", \"Colômbia\",\"Equador\", \"Guiana\", \"Paraguai\", \"Peru\", \"Suriname\"]"
   ]
  },
  {
   "cell_type": "code",
   "execution_count": 49,
   "id": "d45b21e9-99f7-4e38-856f-ef0ce7ef34fc",
   "metadata": {},
   "outputs": [],
   "source": [
    "# Criar uma coluna com índice aleatório de 1 a 13\n",
    "df_nomes = df_nomes.withColumn(\"indice_pais\", floor(rand() * 13) + 1)\n",
    "\n",
    "# Adicionar a coluna \"Pais\" usando o índice aleatório para buscar no array de países\n",
    "df_nomes = df_nomes.withColumn(\"Pais\", element_at(array(*[lit(p) for p in paises]), col(\"indice_pais\").cast(\"int\")))\n",
    "\n",
    "# (Opcional) Remover a coluna auxiliar\n",
    "df_nomes = df_nomes.drop(\"indice_pais\")"
   ]
  },
  {
   "cell_type": "code",
   "execution_count": 50,
   "id": "cc33c788-3ce8-46b9-b48e-d41be3574210",
   "metadata": {},
   "outputs": [
    {
     "name": "stdout",
     "output_type": "stream",
     "text": [
      "+------------------+------------+---------+\n",
      "|             Nomes|Escolaridade|     Pais|\n",
      "+------------------+------------+---------+\n",
      "|      Jess Nichols|       Medio|   Brasil|\n",
      "| Luther Goicoechea|       Medio|   Guiana|\n",
      "|     Mary Williams| Fundamental| Paraguai|\n",
      "|    Jeffrey Aleman|    Superior|Venezuela|\n",
      "|Jacquelyne Bedford|       Medio| Colômbia|\n",
      "+------------------+------------+---------+\n",
      "only showing top 5 rows\n",
      "\n"
     ]
    }
   ],
   "source": [
    "df_nomes.show(5)"
   ]
  },
  {
   "cell_type": "code",
   "execution_count": 51,
   "id": "fe27e68e-8a1d-4274-b8c3-db7276bed1f2",
   "metadata": {},
   "outputs": [],
   "source": [
    "df_nomes = df_nomes.withColumn(\"AnoNascimento\", floor(rand() * 66) + 1945)"
   ]
  },
  {
   "cell_type": "code",
   "execution_count": 52,
   "id": "b57048e2-c4a7-4c89-93eb-f3db084fe5af",
   "metadata": {},
   "outputs": [
    {
     "name": "stdout",
     "output_type": "stream",
     "text": [
      "+------------------+------------+---------+-------------+\n",
      "|             Nomes|Escolaridade|     Pais|AnoNascimento|\n",
      "+------------------+------------+---------+-------------+\n",
      "|      Jess Nichols|       Medio|   Brasil|         2006|\n",
      "| Luther Goicoechea|       Medio|   Guiana|         1981|\n",
      "|     Mary Williams| Fundamental| Paraguai|         1953|\n",
      "|    Jeffrey Aleman|    Superior|Venezuela|         2005|\n",
      "|Jacquelyne Bedford|       Medio| Colômbia|         2009|\n",
      "+------------------+------------+---------+-------------+\n",
      "only showing top 5 rows\n",
      "\n"
     ]
    }
   ],
   "source": [
    "df_nomes.show(5)"
   ]
  },
  {
   "cell_type": "code",
   "execution_count": 53,
   "id": "d51d5eb2-b008-417b-9229-a389fcce0d5a",
   "metadata": {},
   "outputs": [
    {
     "name": "stdout",
     "output_type": "stream",
     "text": [
      "+------------------+\n",
      "|Nomes             |\n",
      "+------------------+\n",
      "|Jess Nichols      |\n",
      "|Jeffrey Aleman    |\n",
      "|Jacquelyne Bedford|\n",
      "|Andrew Spies      |\n",
      "|Shirley Cozart    |\n",
      "|Devon Bronk       |\n",
      "|Raymond Whitaker  |\n",
      "|Raymond Jenkins   |\n",
      "|Donald Brumit     |\n",
      "|Mary Boyce        |\n",
      "+------------------+\n",
      "only showing top 10 rows\n",
      "\n"
     ]
    }
   ],
   "source": [
    "df_select = (\n",
    "    df_nomes               # DataFrame original\n",
    "      .select(\"*\")         # mantém todas as colunas\n",
    "      .where(col(\"AnoNascimento\") >= 2001)\n",
    ")\n",
    "\n",
    "# Mostra 10 nomes do novo DataFrame\n",
    "df_select.select(\"Nomes\").show(10, truncate=False)"
   ]
  },
  {
   "cell_type": "code",
   "execution_count": 54,
   "id": "d873b05d-7198-48ba-bdec-cf3fab5588ba",
   "metadata": {},
   "outputs": [
    {
     "name": "stdout",
     "output_type": "stream",
     "text": [
      "+------------------+\n",
      "|Nomes             |\n",
      "+------------------+\n",
      "|Jess Nichols      |\n",
      "|Jeffrey Aleman    |\n",
      "|Jacquelyne Bedford|\n",
      "|Andrew Spies      |\n",
      "|Shirley Cozart    |\n",
      "|Devon Bronk       |\n",
      "|Raymond Whitaker  |\n",
      "|Raymond Jenkins   |\n",
      "|Donald Brumit     |\n",
      "|Mary Boyce        |\n",
      "+------------------+\n",
      "only showing top 10 rows\n",
      "\n"
     ]
    }
   ],
   "source": [
    "# 1) Registrar o DataFrame como visão temporária\n",
    "df_nomes.createOrReplaceTempView(\"pessoas\")\n",
    "\n",
    "# 2) Consultar via SQL as pessoas nascidas no século XXI\n",
    "df_select = spark.sql(\"\"\"\n",
    "    SELECT *\n",
    "    FROM   pessoas\n",
    "    WHERE  AnoNascimento >= 2001   -- ajuste para >= 2000 se preferir\n",
    "\"\"\")\n",
    "\n",
    "# 3) Exibir 10 nomes para conferir\n",
    "df_select.select(\"Nomes\").show(10, truncate=False)"
   ]
  },
  {
   "cell_type": "code",
   "execution_count": 55,
   "id": "7ef6ddeb-3a30-444a-a354-e5521651840e",
   "metadata": {},
   "outputs": [
    {
     "name": "stdout",
     "output_type": "stream",
     "text": [
      "Total de pessoas da geração Millennials: 2270855\n"
     ]
    }
   ],
   "source": [
    "# Millennials: 1980 ≤ AnoNascimento ≤ 1994\n",
    "millennials_count = (\n",
    "    df_nomes\n",
    "      .filter((col(\"AnoNascimento\") >= 1980) & (col(\"AnoNascimento\") <= 1994))\n",
    "      .count()\n",
    ")\n",
    "\n",
    "print(f\"Total de pessoas da geração Millennials: {millennials_count}\")"
   ]
  },
  {
   "cell_type": "code",
   "execution_count": 56,
   "id": "c194d9c4-04d1-4d3e-8810-f1a20533a967",
   "metadata": {},
   "outputs": [
    {
     "name": "stdout",
     "output_type": "stream",
     "text": [
      "+---------------+\n",
      "|qtd_millennials|\n",
      "+---------------+\n",
      "|        2270855|\n",
      "+---------------+\n",
      "\n"
     ]
    }
   ],
   "source": [
    "# registrar visão temporária se ainda não existir\n",
    "df_nomes.createOrReplaceTempView(\"pessoas\")\n",
    "\n",
    "millennials_sql = spark.sql(\"\"\"\n",
    "    SELECT COUNT(*) AS qtd_millennials\n",
    "    FROM   pessoas\n",
    "    WHERE  AnoNascimento BETWEEN 1980 AND 1994\n",
    "\"\"\")\n",
    "\n",
    "millennials_sql.show()"
   ]
  },
  {
   "cell_type": "code",
   "execution_count": 57,
   "id": "43b4510e-a944-4a4e-bafe-20aa5b9a6048",
   "metadata": {},
   "outputs": [
    {
     "name": "stdout",
     "output_type": "stream",
     "text": [
      "+---------+------------+----------+\n",
      "|Pais     |Geracao     |Quantidade|\n",
      "+---------+------------+----------+\n",
      "|Argentina|Baby Boomers|233482    |\n",
      "|Argentina|Geração X   |175457    |\n",
      "|Argentina|Geração Z   |185855    |\n",
      "|Argentina|Millennials |174660    |\n",
      "|Bolívia  |Baby Boomers|233655    |\n",
      "|Bolívia  |Geração X   |175493    |\n",
      "|Bolívia  |Geração Z   |186506    |\n",
      "|Bolívia  |Millennials |175205    |\n",
      "|Brasil   |Baby Boomers|233242    |\n",
      "|Brasil   |Geração X   |174765    |\n",
      "|Brasil   |Geração Z   |187099    |\n",
      "|Brasil   |Millennials |174954    |\n",
      "|Chile    |Baby Boomers|233028    |\n",
      "|Chile    |Geração X   |175313    |\n",
      "|Chile    |Geração Z   |186271    |\n",
      "|Chile    |Millennials |174411    |\n",
      "|Colômbia |Baby Boomers|233189    |\n",
      "|Colômbia |Geração X   |175465    |\n",
      "|Colômbia |Geração Z   |186425    |\n",
      "|Colômbia |Millennials |174388    |\n",
      "+---------+------------+----------+\n",
      "only showing top 20 rows\n",
      "\n"
     ]
    }
   ],
   "source": [
    "geracoes_por_pais = spark.sql(\"\"\"\n",
    "    SELECT\n",
    "        Pais,\n",
    "        CASE\n",
    "            WHEN AnoNascimento BETWEEN 1944 AND 1964 THEN 'Baby Boomers'\n",
    "            WHEN AnoNascimento BETWEEN 1965 AND 1979 THEN 'Geração X'\n",
    "            WHEN AnoNascimento BETWEEN 1980 AND 1994 THEN 'Millennials'\n",
    "            WHEN AnoNascimento BETWEEN 1995 AND 2015 THEN 'Geração Z'\n",
    "        END AS Geracao,\n",
    "        COUNT(*) AS Quantidade\n",
    "    FROM   pessoas\n",
    "    GROUP BY Pais, Geracao\n",
    "    ORDER BY Pais, Geracao, Quantidade\n",
    "\"\"\")\n",
    "\n",
    "# exibe o resultado e deixa em DataFrame para uso posterior\n",
    "geracoes_por_pais.show(truncate=False)"
   ]
  },
  {
   "cell_type": "code",
   "execution_count": null,
   "id": "cbc2053b-5a40-4596-b702-31e1ac509288",
   "metadata": {},
   "outputs": [],
   "source": []
  }
 ],
 "metadata": {
  "kernelspec": {
   "display_name": "Python 3 (ipykernel)",
   "language": "python",
   "name": "python3"
  },
  "language_info": {
   "codemirror_mode": {
    "name": "ipython",
    "version": 3
   },
   "file_extension": ".py",
   "mimetype": "text/x-python",
   "name": "python",
   "nbconvert_exporter": "python",
   "pygments_lexer": "ipython3",
   "version": "3.11.6"
  }
 },
 "nbformat": 4,
 "nbformat_minor": 5
}
